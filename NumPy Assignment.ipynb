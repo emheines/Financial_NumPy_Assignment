{
 "cells": [
  {
   "cell_type": "markdown",
   "id": "936727d9",
   "metadata": {},
   "source": [
    "__Import Numpy__"
   ]
  },
  {
   "cell_type": "code",
   "execution_count": 61,
   "id": "e50029d6",
   "metadata": {},
   "outputs": [],
   "source": [
    "import numpy as np"
   ]
  },
  {
   "cell_type": "markdown",
   "id": "fbffd01f",
   "metadata": {},
   "source": [
    "__Create an array of 10 zeroes__"
   ]
  },
  {
   "cell_type": "code",
   "execution_count": 62,
   "id": "afb0a3ce",
   "metadata": {},
   "outputs": [
    {
     "data": {
      "text/plain": [
       "array([0., 0., 0., 0., 0., 0., 0., 0., 0., 0.])"
      ]
     },
     "execution_count": 62,
     "metadata": {},
     "output_type": "execute_result"
    }
   ],
   "source": [
    "np.zeros(10)"
   ]
  },
  {
   "cell_type": "markdown",
   "id": "b00a4238",
   "metadata": {},
   "source": [
    "__Create an array of 10 ones__"
   ]
  },
  {
   "cell_type": "code",
   "execution_count": 63,
   "id": "72f22d60",
   "metadata": {
    "scrolled": false
   },
   "outputs": [
    {
     "data": {
      "text/plain": [
       "array([1., 1., 1., 1., 1., 1., 1., 1., 1., 1.])"
      ]
     },
     "execution_count": 63,
     "metadata": {},
     "output_type": "execute_result"
    }
   ],
   "source": [
    "np.ones(10)"
   ]
  },
  {
   "cell_type": "markdown",
   "id": "55b81b3e",
   "metadata": {},
   "source": [
    "__Create an array of 10 fives__"
   ]
  },
  {
   "cell_type": "code",
   "execution_count": 64,
   "id": "815982b8",
   "metadata": {
    "scrolled": true
   },
   "outputs": [
    {
     "data": {
      "text/plain": [
       "array([5., 5., 5., 5., 5., 5., 5., 5., 5., 5.])"
      ]
     },
     "execution_count": 64,
     "metadata": {},
     "output_type": "execute_result"
    }
   ],
   "source": [
    "np.ones(10)*5"
   ]
  },
  {
   "cell_type": "markdown",
   "id": "6c81033e",
   "metadata": {},
   "source": [
    "__Create an array of integers from 10-50__"
   ]
  },
  {
   "cell_type": "code",
   "execution_count": 65,
   "id": "d3e8d56d",
   "metadata": {},
   "outputs": [
    {
     "data": {
      "text/plain": [
       "array([10, 11, 12, 13, 14, 15, 16, 17, 18, 19, 20, 21, 22, 23, 24, 25, 26,\n",
       "       27, 28, 29, 30, 31, 32, 33, 34, 35, 36, 37, 38, 39, 40, 41, 42, 43,\n",
       "       44, 45, 46, 47, 48, 49, 50])"
      ]
     },
     "execution_count": 65,
     "metadata": {},
     "output_type": "execute_result"
    }
   ],
   "source": [
    "np.array(np.arange(10,51))"
   ]
  },
  {
   "cell_type": "markdown",
   "id": "b8107417",
   "metadata": {},
   "source": [
    "__Create an array of even int from 10-50__"
   ]
  },
  {
   "cell_type": "code",
   "execution_count": 66,
   "id": "eea599a3",
   "metadata": {},
   "outputs": [
    {
     "data": {
      "text/plain": [
       "array([ 0,  2,  4,  6,  8, 10, 12, 14, 16, 18, 20, 22, 24, 26, 28, 30, 32,\n",
       "       34, 36, 38, 40, 42, 44, 46, 48, 50])"
      ]
     },
     "execution_count": 66,
     "metadata": {},
     "output_type": "execute_result"
    }
   ],
   "source": [
    "np.array(np.arange(0,51,2))"
   ]
  },
  {
   "cell_type": "markdown",
   "id": "a690ee60",
   "metadata": {},
   "source": [
    "__Create a 3x3 matrix with values from 0-8__"
   ]
  },
  {
   "cell_type": "code",
   "execution_count": 67,
   "id": "07b6077b",
   "metadata": {},
   "outputs": [
    {
     "data": {
      "text/plain": [
       "array([[0, 1, 2],\n",
       "       [3, 4, 5],\n",
       "       [6, 7, 8]])"
      ]
     },
     "execution_count": 67,
     "metadata": {},
     "output_type": "execute_result"
    }
   ],
   "source": [
    "np.arange(0,9).reshape(3,3)"
   ]
  },
  {
   "cell_type": "markdown",
   "id": "80b834fd",
   "metadata": {},
   "source": [
    "__Generate a random number between 0-1__"
   ]
  },
  {
   "cell_type": "code",
   "execution_count": 68,
   "id": "ebf5f066",
   "metadata": {},
   "outputs": [
    {
     "data": {
      "text/plain": [
       "array([0.36409843])"
      ]
     },
     "execution_count": 68,
     "metadata": {},
     "output_type": "execute_result"
    }
   ],
   "source": [
    "np.random.rand(1)"
   ]
  },
  {
   "cell_type": "markdown",
   "id": "bd522223",
   "metadata": {},
   "source": [
    "__Create a matrix using the code given:__"
   ]
  },
  {
   "cell_type": "code",
   "execution_count": 69,
   "id": "43aaf7f8",
   "metadata": {},
   "outputs": [
    {
     "data": {
      "text/plain": [
       "array([[ 1,  2,  3,  4,  5],\n",
       "       [ 6,  7,  8,  9, 10],\n",
       "       [11, 12, 13, 14, 15],\n",
       "       [16, 17, 18, 19, 20],\n",
       "       [21, 22, 23, 24, 25]])"
      ]
     },
     "execution_count": 69,
     "metadata": {},
     "output_type": "execute_result"
    }
   ],
   "source": [
    "mat = np.arange(1,26).reshape(5,5)\n",
    "mat"
   ]
  },
  {
   "cell_type": "markdown",
   "id": "ce6ded4c",
   "metadata": {},
   "source": [
    "__Find sum of values in mat__"
   ]
  },
  {
   "cell_type": "code",
   "execution_count": 70,
   "id": "1937209d",
   "metadata": {},
   "outputs": [
    {
     "data": {
      "text/plain": [
       "325"
      ]
     },
     "execution_count": 70,
     "metadata": {},
     "output_type": "execute_result"
    }
   ],
   "source": [
    "np.sum(mat)"
   ]
  },
  {
   "cell_type": "markdown",
   "id": "aacd9e07",
   "metadata": {},
   "source": [
    "__Find std dev of values in mat__"
   ]
  },
  {
   "cell_type": "code",
   "execution_count": 71,
   "id": "64390d30",
   "metadata": {},
   "outputs": [
    {
     "data": {
      "text/plain": [
       "7.211102550927978"
      ]
     },
     "execution_count": 71,
     "metadata": {},
     "output_type": "execute_result"
    }
   ],
   "source": [
    "np.std(mat)"
   ]
  },
  {
   "cell_type": "markdown",
   "id": "d5b0c0e5",
   "metadata": {},
   "source": [
    "__Create a matrix of ones named mat1__"
   ]
  },
  {
   "cell_type": "code",
   "execution_count": 72,
   "id": "808fbada",
   "metadata": {},
   "outputs": [],
   "source": [
    "mat1 = np.ones(25).reshape(5,5)"
   ]
  },
  {
   "cell_type": "markdown",
   "id": "a825be2f",
   "metadata": {},
   "source": [
    "__Add values of mat to those of mat1__"
   ]
  },
  {
   "cell_type": "code",
   "execution_count": 73,
   "id": "c57bc30f",
   "metadata": {},
   "outputs": [
    {
     "data": {
      "text/plain": [
       "array([[ 2.,  3.,  4.,  5.,  6.],\n",
       "       [ 7.,  8.,  9., 10., 11.],\n",
       "       [12., 13., 14., 15., 16.],\n",
       "       [17., 18., 19., 20., 21.],\n",
       "       [22., 23., 24., 25., 26.]])"
      ]
     },
     "execution_count": 73,
     "metadata": {},
     "output_type": "execute_result"
    }
   ],
   "source": [
    "mat + mat1"
   ]
  },
  {
   "cell_type": "markdown",
   "id": "a2d10caa",
   "metadata": {},
   "source": [
    "__Multiply values of mat by those of mat1__"
   ]
  },
  {
   "cell_type": "code",
   "execution_count": 74,
   "id": "cf21dfaa",
   "metadata": {},
   "outputs": [
    {
     "data": {
      "text/plain": [
       "array([[ 1.,  2.,  3.,  4.,  5.],\n",
       "       [ 6.,  7.,  8.,  9., 10.],\n",
       "       [11., 12., 13., 14., 15.],\n",
       "       [16., 17., 18., 19., 20.],\n",
       "       [21., 22., 23., 24., 25.]])"
      ]
     },
     "execution_count": 74,
     "metadata": {},
     "output_type": "execute_result"
    }
   ],
   "source": [
    "mat * mat1"
   ]
  }
 ],
 "metadata": {
  "kernelspec": {
   "display_name": "Python 3 (ipykernel)",
   "language": "python",
   "name": "python3"
  },
  "language_info": {
   "codemirror_mode": {
    "name": "ipython",
    "version": 3
   },
   "file_extension": ".py",
   "mimetype": "text/x-python",
   "name": "python",
   "nbconvert_exporter": "python",
   "pygments_lexer": "ipython3",
   "version": "3.9.7"
  }
 },
 "nbformat": 4,
 "nbformat_minor": 5
}
